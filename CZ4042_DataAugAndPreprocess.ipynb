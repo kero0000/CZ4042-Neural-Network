{
  "cells": [
    {
      "cell_type": "code",
      "execution_count": 17,
      "metadata": {
        "id": "bvg6H-848oe8"
      },
      "outputs": [],
      "source": [
        "usingGoogleColab = False"
      ]
    },
    {
      "cell_type": "markdown",
      "metadata": {},
      "source": [
        "### Imports"
      ]
    },
    {
      "cell_type": "code",
      "execution_count": 18,
      "metadata": {
        "id": "8fxwlJ1sDSnW"
      },
      "outputs": [],
      "source": [
        "import tensorflow as tf\n",
        "from tensorflow.keras import datasets, layers, models\n",
        "from tensorflow.keras.preprocessing.image import load_img, img_to_array\n",
        "\n",
        "from sklearn import metrics\n",
        "from sklearn.model_selection import KFold, StratifiedKFold\n",
        "from sklearn.model_selection import train_test_split\n",
        "from sklearn.utils import class_weight\n",
        "\n",
        "import matplotlib.pyplot as plt\n",
        "import imgaug as aug\n",
        "import imgaug.augmenters as iaa\n",
        "import glob\n",
        "import cv2\n",
        "import numpy as np\n",
        "import pandas as pd\n",
        "import os\n",
        "import random\n",
        "from statistics import mean\n",
        "from IPython.display import clear_output"
      ]
    },
    {
      "cell_type": "markdown",
      "metadata": {
        "id": "dEIqB_NYGEEl"
      },
      "source": [
        "### Adjustable Parameters"
      ]
    },
    {
      "cell_type": "code",
      "execution_count": 19,
      "metadata": {
        "id": "Ut2uiDz4rShs"
      },
      "outputs": [],
      "source": [
        "RandomSeed = 42\n",
        "random.seed(RandomSeed)\n",
        "np.random.seed(RandomSeed)\n",
        "tf.random.set_seed(RandomSeed)\n",
        "aug.seed(RandomSeed)\n",
        "\n",
        "img_width = 32\n",
        "img_height = 32\n",
        "\n",
        "numFold = 10\n",
        "fold = StratifiedKFold(n_splits=numFold, shuffle=True, random_state=RandomSeed)\n",
        "batchSize = 128\n",
        "numEpochs = 20"
      ]
    },
    {
      "cell_type": "markdown",
      "metadata": {},
      "source": [
        "### Helper Functions"
      ]
    },
    {
      "cell_type": "code",
      "execution_count": 20,
      "metadata": {},
      "outputs": [],
      "source": [
        "def ShuffleData(xData, yData):\n",
        "  indices = np.arange(xData.shape[0])\n",
        "  np.random.shuffle(indices)\n",
        "\n",
        "  return xData[indices], yData[indices]\n",
        "\n",
        "def BuildModel():\n",
        "  # Convolute Layers\n",
        "  model = models.Sequential()\n",
        "  model.add(layers.Conv2D(32, (3, 3), activation='relu', input_shape=(img_width, img_height, 1)))\n",
        "  model.add(layers.MaxPooling2D((2, 2)))\n",
        "  model.add(layers.Conv2D(64, (3, 3), activation='relu'))\n",
        "  model.add(layers.MaxPooling2D((2, 2)))\n",
        "  model.add(layers.Conv2D(64, (3, 3), activation='relu'))\n",
        "\n",
        "  # Neural Network Layers\n",
        "  model.add(layers.Flatten())\n",
        "  model.add(layers.Dense(512, activation='relu'))\n",
        "  model.add(layers.Dense(1, activation='sigmoid'))\n",
        "  return model\n",
        "\n",
        "def CompileModel(model):\n",
        "  model.compile(optimizer='sgd',\n",
        "                loss=tf.keras.losses.BinaryCrossentropy(),\n",
        "                metrics=['accuracy'\n",
        "                , tf.keras.metrics.Precision(name='precision')\n",
        "                , tf.keras.metrics.Recall(name='recall')\n",
        "                ])\n",
        "def TrainModel(model, xTrain, yTrain, xTest, yTest):\n",
        "  return model.fit(xTrain, yTrain\n",
        "                   , epochs = numEpochs\n",
        "                   , batch_size= batchSize\n",
        "                   , verbose = 0\n",
        "                   , validation_data=(xTest, yTest))\n",
        "\n",
        "def TrainModel_ClassWeights(model, xTrain, yTrain, xTest, yTest, classWeights):\n",
        "  return model.fit(xTrain, yTrain\n",
        "                   , epochs = numEpochs\n",
        "                   , batch_size = batchSize\n",
        "                   , verbose = 0\n",
        "                   , class_weight = classWeights\n",
        "                   , validation_data=(xTest, yTest))\n",
        "  \n",
        "def GetHistoryAverage(histories):\n",
        "  lastEpochHistory = []\n",
        "\n",
        "  # Take metrics only from last epoch\n",
        "  for foldHist in histories:\n",
        "    myDict = {}\n",
        "    for key in foldHist.history:\n",
        "      myDict[key] = foldHist.history[key][-1]\n",
        "    lastEpochHistory.append(myDict)\n",
        "\n",
        "\n",
        "  print(histories[0].history.keys())\n",
        "\n",
        "  avrgHistory = {}\n",
        "  for key in histories[0].history.keys():\n",
        "    avrgHistory[key] = mean([h[key] for h in lastEpochHistory])\n",
        "    \n",
        "  return avrgHistory\n",
        "\n",
        "def EvaluateModel(model, xData, yData):\n",
        "  metricsResults = model.evaluate(xData, yData\n",
        "                        , verbose = 0\n",
        "                        )\n",
        "  return dict(zip(model.metrics_names, metricsResults))\n",
        "  \n",
        "def GetClassWeights(yData):\n",
        "  uniqueLabels  = np.unique(yData)\n",
        "  classWeightValues = class_weight.compute_class_weight(\n",
        "    'balanced'\n",
        "    , classes = uniqueLabels\n",
        "    , y = yData\n",
        "    )\n",
        "\n",
        "  classWeights = {}\n",
        "  idx = 0\n",
        "  for label in uniqueLabels:\n",
        "    classWeights[label] = classWeightValues[idx]\n",
        "    idx = idx + 1\n",
        "\n",
        "  return classWeights\n",
        "\n",
        "def GenerateAugmentedData(dataset, amountToGen, AugData):\n",
        "  dataLen = len(dataset)\n",
        "  randomIndexList = random.shuffle([*range(dataLen)])\n",
        "  # Augmentation sequence\n",
        "\n",
        "  newData = []\n",
        "  for i in range(amountToGen):\n",
        "    idx = i % dataLen\n",
        "    augmentedImg = AugData.augment(images=dataset[idx])\n",
        "    newData.append(augmentedImg)\n",
        "\n",
        "  return newData"
      ]
    },
    {
      "cell_type": "markdown",
      "metadata": {
        "id": "ORfTUsvclX-j"
      },
      "source": [
        "### Loading of Default Data"
      ]
    },
    {
      "cell_type": "code",
      "execution_count": 21,
      "metadata": {
        "id": "Cw9nekFopo7R"
      },
      "outputs": [],
      "source": [
        "imgs_N_Path = \"Images/Default/NORMAL\"\n",
        "imgs_P_Path = \"Images/Default/PNEUMONIA\"\n",
        "\n",
        "if usingGoogleColab:\n",
        "  from google.colab import drive\n",
        "  drive.mount('/content/drive')\n",
        "  imgs_N_Path = \"drive/MyDrive/CZ4042_Lab02/\" + imgs_N_Path\n",
        "  imgs_P_Path = \"drive/MyDrive/CZ4042_Lab02/\" + imgs_P_Path\n",
        "\n",
        "img_N_List = os.listdir(imgs_N_Path)\n",
        "img_P_List = os.listdir(imgs_P_Path)\n",
        "\n",
        "xN = []\n",
        "xP = []\n",
        "\n",
        "for imgName in img_N_List:\n",
        "  img = load_img(imgs_N_Path + \"/\" + imgName, target_size=(img_width, img_height))\n",
        "  img = img_to_array(img)\n",
        "  grayImg = np.array([[pixel[0] for pixel in row] for row in img]) #Since img is grayscaled, r, g, and b are same values, we only need one of it\n",
        "  xN.append(grayImg)\n",
        "for imgName in img_P_List:\n",
        "  img = load_img(imgs_P_Path + \"/\" + imgName, target_size=(img_width, img_height))\n",
        "  img = img_to_array(img)\n",
        "  grayImg = np.array([[pixel[0] for pixel in row] for row in img])\n",
        "  xP.append(grayImg)"
      ]
    },
    {
      "cell_type": "markdown",
      "metadata": {
        "id": "TymGpiQ5la9h"
      },
      "source": [
        "### Dataset Analysis"
      ]
    },
    {
      "cell_type": "code",
      "execution_count": 22,
      "metadata": {
        "colab": {
          "base_uri": "https://localhost:8080/",
          "height": 347
        },
        "id": "OxD4Ia9Eq8wW",
        "outputId": "11032c9f-d190-4833-a7ec-b136e4a5357d"
      },
      "outputs": [
        {
          "name": "stdout",
          "output_type": "stream",
          "text": [
            "1583  Normal Images\n",
            "4273  Pneumonia Images\n",
            "5856  Total Images\n"
          ]
        },
        {
          "data": {
            "image/png": "[encoded data removed]",
            "text/plain": [
              "<Figure size 432x288 with 1 Axes>"
            ]
          },
          "metadata": {
            "needs_background": "light"
          },
          "output_type": "display_data"
        }
      ],
      "source": [
        "numNormals = len(xN)\n",
        "numPneumonias = len(xP)\n",
        "\n",
        "print(numNormals, \" Normal Images\")\n",
        "print(numPneumonias, \" Pneumonia Images\")\n",
        "print(numNormals + numPneumonias, \" Total Images\")\n",
        "\n",
        "data = {\n",
        "    'Normal': numNormals\n",
        "    , 'Pneumonia': numPneumonias\n",
        "    }\n",
        "\n",
        "labels = data.keys()\n",
        "values = data.values()\n",
        "plt.bar(labels, values)\n",
        " \n",
        "plt.xlabel(\"Types of Images\")\n",
        "plt.ylabel(\"Number of Images\")\n",
        "plt.title(\"Dataset Label Amount Comparison\")\n",
        "plt.show()"
      ]
    },
    {
      "cell_type": "code",
      "execution_count": 23,
      "metadata": {
        "id": "W0xzXpXLDe8y"
      },
      "outputs": [],
      "source": [
        "#Reserve 100 images of each category for testing\n",
        "x = xN + xP\n",
        "y = ([0] * len(xN)) + ([1] * len(xP))\n",
        "xTrain, xTest, yTrain, yTest = train_test_split(x, y, test_size=0.1, random_state=RandomSeed)\n",
        "\n",
        "# Normalize pixel values to be between 0 and 1\n",
        "xTest = np.array(xTest, dtype=np.float32)\n",
        "xTrain = np.array(xTrain, dtype=np.float32)\n",
        "yTest = np.array(yTest, dtype=np.float32)\n",
        "yTrain = np.array(yTrain, dtype=np.float32)\n",
        "xTest = xTest / 255.0\n",
        "xTrain = xTrain / 255.0\n",
        "\n",
        "# Shuffle data\n",
        "xTrain, yTrain = ShuffleData(xTrain, yTrain)"
      ]
    },
    {
      "cell_type": "code",
      "execution_count": 24,
      "metadata": {
        "id": "khwtLkZ5u1ju"
      },
      "outputs": [
        {
          "name": "stdout",
          "output_type": "stream",
          "text": [
            "Model: \"sequential_22\"\n",
            "_________________________________________________________________\n",
            " Layer (type)                Output Shape              Param #   \n",
            "=================================================================\n",
            " conv2d_66 (Conv2D)          (None, 30, 30, 32)        320       \n",
            "                                                                 \n",
            " max_pooling2d_44 (MaxPoolin  (None, 15, 15, 32)       0         \n",
            " g2D)                                                            \n",
            "                                                                 \n",
            " conv2d_67 (Conv2D)          (None, 13, 13, 64)        18496     \n",
            "                                                                 \n",
            " max_pooling2d_45 (MaxPoolin  (None, 6, 6, 64)         0         \n",
            " g2D)                                                            \n",
            "                                                                 \n",
            " conv2d_68 (Conv2D)          (None, 4, 4, 64)          36928     \n",
            "                                                                 \n",
            " flatten_22 (Flatten)        (None, 1024)              0         \n",
            "                                                                 \n",
            " dense_44 (Dense)            (None, 512)               524800    \n",
            "                                                                 \n",
            " dense_45 (Dense)            (None, 1)                 513       \n",
            "                                                                 \n",
            "=================================================================\n",
            "Total params: 581,057\n",
            "Trainable params: 581,057\n",
            "Non-trainable params: 0\n",
            "_________________________________________________________________\n"
          ]
        }
      ],
      "source": [
        "model = BuildModel()\n",
        "model.summary()"
      ]
    },
    {
      "cell_type": "markdown",
      "metadata": {
        "id": "YSwUUXffHF93"
      },
      "source": [
        "### Default Scenario"
      ]
    },
    {
      "cell_type": "code",
      "execution_count": 25,
      "metadata": {
        "colab": {
          "base_uri": "https://localhost:8080/"
        },
        "id": "YZF1LEkwA-J0",
        "outputId": "858f6f58-7d68-4833-fc63-bf96d1d212c1"
      },
      "outputs": [
        {
          "name": "stdout",
          "output_type": "stream",
          "text": [
            "Training Done\n"
          ]
        }
      ],
      "source": [
        "xData = xTrain\n",
        "yData = yTrain\n",
        "\n",
        "histories_df = []\n",
        "foldIter = 1\n",
        "for trainIndexes, testIndexes in fold.split(xData, yData):\n",
        "    print(f'\\tTraining {foldIter}/{numFold}: ')\n",
        "    \n",
        "    model = BuildModel()\n",
        "    \n",
        "    CompileModel(model)\n",
        "    \n",
        "    history = TrainModel(model, xData[trainIndexes], yData[trainIndexes], xData[testIndexes], yData[testIndexes])\n",
        "    \n",
        "    histories_df.append(history)\n",
        "    \n",
        "    foldIter += 1\n",
        "\n",
        "clear_output(wait=True)\n",
        "print(\"Training Done\")"
      ]
    },
    {
      "cell_type": "code",
      "execution_count": 26,
      "metadata": {
        "colab": {
          "base_uri": "https://localhost:8080/"
        },
        "id": "_LXO6fIH2Alw",
        "outputId": "4904bbca-5c92-456b-87bd-7996e808b2b7"
      },
      "outputs": [
        {
          "name": "stdout",
          "output_type": "stream",
          "text": [
            "dict_keys(['loss', 'accuracy', 'precision', 'recall', 'val_loss', 'val_accuracy', 'val_precision', 'val_recall'])\n",
            "loss            0.4945905417203903\n",
            "accuracy        0.7507484674453735\n",
            "precision       0.748711347579956\n",
            "recall          0.9955434143543244\n",
            "val_loss        0.5340226411819458\n",
            "val_accuracy    0.7366223990917206\n",
            "val_precision   0.7759564876556396\n",
            "val_recall      0.9411917060613633\n"
          ]
        }
      ],
      "source": [
        "avrgHistory_df = GetHistoryAverage(histories_df)\n",
        "\n",
        "for key, value in avrgHistory_df.items():\n",
        "  print(\"{:<15} {:<10}\".format(key, value))"
      ]
    },
    {
      "cell_type": "code",
      "execution_count": 27,
      "metadata": {},
      "outputs": [
        {
          "name": "stdout",
          "output_type": "stream",
          "text": [
            "{'loss': 0.5619741082191467, 'accuracy': 0.6979522109031677, 'precision': 0.6979522109031677, 'recall': 1.0}\n"
          ]
        }
      ],
      "source": [
        "xDataTrain, xDataTest, yDataTrain, yDataTest = train_test_split(xTrain, yTrain, test_size=0.2, random_state=RandomSeed)\n",
        "\n",
        "model = BuildModel()\n",
        "    \n",
        "CompileModel(model)\n",
        "\n",
        "TrainModel(model, xDataTrain, yDataTrain, xDataTest, yDataTest)\n",
        "\n",
        "metrics_df = EvaluateModel(model, xTest, yTest)\n",
        "\n",
        "print(metrics_df)"
      ]
    },
    {
      "cell_type": "markdown",
      "metadata": {
        "id": "6IZoyxvYHLI3"
      },
      "source": [
        "### Adjusting Class Weights Scenario"
      ]
    },
    {
      "cell_type": "code",
      "execution_count": 28,
      "metadata": {},
      "outputs": [
        {
          "name": "stdout",
          "output_type": "stream",
          "text": [
            "{0.0: 1.8741109530583215, 1.0: 0.681935817805383}\n"
          ]
        }
      ],
      "source": [
        "lw = GetClassWeights(yTrain)\n",
        "\n",
        "print(lw)"
      ]
    },
    {
      "cell_type": "code",
      "execution_count": 29,
      "metadata": {
        "colab": {
          "base_uri": "https://localhost:8080/"
        },
        "id": "rbjFR-DlDC5v",
        "outputId": "0c7fe90a-617c-46e9-abb1-cd269ceadfd9"
      },
      "outputs": [
        {
          "name": "stdout",
          "output_type": "stream",
          "text": [
            "Training Done\n"
          ]
        }
      ],
      "source": [
        "xData = xTrain\n",
        "yData = yTrain\n",
        "\n",
        "histories_cw = []\n",
        "foldIter = 1\n",
        "for trainIndexes, testIndexes in fold.split(xData, yData):\n",
        "    print(f'\\tTraining {foldIter}/{numFold}: ')\n",
        "    \n",
        "    model = BuildModel()\n",
        "    \n",
        "    CompileModel(model)\n",
        "\n",
        "    classWeights = GetClassWeights(yData[trainIndexes])\n",
        "    history = TrainModel_ClassWeights(model, xData[trainIndexes], yData[trainIndexes], xData[testIndexes], yData[testIndexes], classWeights)\n",
        "    \n",
        "    histories_cw.append(history)\n",
        "    \n",
        "    foldIter += 1\n",
        "\n",
        "clear_output(wait=True)\n",
        "print(\"Training Done\")"
      ]
    },
    {
      "cell_type": "code",
      "execution_count": 30,
      "metadata": {
        "colab": {
          "base_uri": "https://localhost:8080/"
        },
        "id": "_X9Nrn-sCE_J",
        "outputId": "f0432d60-f1d4-4429-e414-d6b2fd375bed"
      },
      "outputs": [
        {
          "name": "stdout",
          "output_type": "stream",
          "text": [
            "dict_keys(['loss', 'accuracy', 'precision', 'recall', 'val_loss', 'val_accuracy', 'val_precision', 'val_recall'])\n",
            "loss            0.5280583202838898\n",
            "accuracy        0.7913345992565155\n",
            "precision       0.9243667244911193\n",
            "recall          0.7792435884475708\n",
            "val_loss        0.539438220858574\n",
            "val_accuracy    0.740607213973999\n",
            "val_precision   0.8928616583347321\n",
            "val_recall      0.7778654754161834\n"
          ]
        }
      ],
      "source": [
        "avrgHistory_cw = GetHistoryAverage(histories_cw)\n",
        "\n",
        "for key, value in avrgHistory_cw.items():\n",
        "  print(\"{:<15} {:<10}\".format(key, value))"
      ]
    },
    {
      "cell_type": "code",
      "execution_count": 31,
      "metadata": {},
      "outputs": [
        {
          "name": "stdout",
          "output_type": "stream",
          "text": [
            "{'loss': 0.6554113626480103, 'accuracy': 0.8447098731994629, 'precision': 0.9789156913757324, 'recall': 0.7946210503578186}\n"
          ]
        }
      ],
      "source": [
        "xDataTrain, xDataTest, yDataTrain, yDataTest = train_test_split(xTrain, yTrain, test_size=0.2, random_state=RandomSeed)\n",
        "\n",
        "model = BuildModel()\n",
        "    \n",
        "CompileModel(model)\n",
        "\n",
        "labelWeights = GetClassWeights(yDataTrain)\n",
        "TrainModel_ClassWeights(model, xDataTrain, yDataTrain, xDataTest, yDataTest, labelWeights)\n",
        "\n",
        "metrics_cw = EvaluateModel(model, xTest, yTest)\n",
        "\n",
        "print(metrics_cw)"
      ]
    },
    {
      "cell_type": "markdown",
      "metadata": {},
      "source": [
        "### Data Augmentation Scenario"
      ]
    },
    {
      "cell_type": "code",
      "execution_count": 32,
      "metadata": {
        "colab": {
          "base_uri": "https://localhost:8080/",
          "height": 103
        },
        "id": "z204RF1YXuRN",
        "outputId": "b611ba80-bee3-4c47-d676-3c49edb6f85c"
      },
      "outputs": [],
      "source": [
        "# augData = iaa.OneOf([\n",
        "#       iaa.Fliplr(), # horizontal flips\n",
        "#       iaa.Affine(rotate=5), # roatation\n",
        "#       iaa.Multiply((0.5, 1.5)) # random brightness\n",
        "#       ])\n",
        "\n",
        "# newData = GenerateAugmentedData(x[0:2], 15, augData)\n",
        "\n",
        "# plt.figure(figsize=(50, 20))\n",
        "# for i in range(len(newData)):\n",
        "#   ax = plt.subplot(2, 15, i + 1)\n",
        "#   plt.imshow(newData[i])\n",
        "#   plt.axis(\"off\")"
      ]
    },
    {
      "cell_type": "code",
      "execution_count": 33,
      "metadata": {
        "id": "ig2wWy8OwvbG"
      },
      "outputs": [],
      "source": [
        "augSequence = iaa.Sequential([\n",
        "      iaa.Affine(rotate=5), # roatation\n",
        "      iaa.Multiply((0.5, 1.5)), # random brightness\n",
        "      iaa.Crop(percent=(0.02, 0.05)) # random crops\n",
        "      ])\n",
        "numNorm = np.count_nonzero(yTrain == 0)\n",
        "numPneum = np.count_nonzero(yTrain == 1)\n",
        "amountToGenerate = numPneum - numNorm\n",
        "newData = GenerateAugmentedData(xTrain, amountToGenerate, augSequence)\n",
        "newData = np.array(newData, dtype=\"float32\")\n",
        "newDataScaled = newData / 255.0"
      ]
    },
    {
      "cell_type": "code",
      "execution_count": 34,
      "metadata": {},
      "outputs": [
        {
          "name": "stdout",
          "output_type": "stream",
          "text": [
            "Training Done\n"
          ]
        }
      ],
      "source": [
        "xData = np.append(xTrain, newDataScaled, axis=0)\n",
        "yData = np.append(yTrain, [0] * len(newDataScaled), axis=0)\n",
        "\n",
        "histories_da = []\n",
        "foldIter = 1\n",
        "for trainIndexes, testIndexes in fold.split(xData, yData):\n",
        "    print(f'\\tTraining {foldIter}/{numFold}: ')\n",
        "    \n",
        "    model = BuildModel()\n",
        "    \n",
        "    CompileModel(model)\n",
        "\n",
        "    history = TrainModel(model, xData[trainIndexes], yData[trainIndexes], xData[testIndexes], yData[testIndexes])\n",
        "    \n",
        "    histories_da.append(history)\n",
        "    \n",
        "    foldIter += 1\n",
        "\n",
        "clear_output(wait=True)\n",
        "print(\"Training Done\")"
      ]
    },
    {
      "cell_type": "code",
      "execution_count": 35,
      "metadata": {},
      "outputs": [
        {
          "name": "stdout",
          "output_type": "stream",
          "text": [
            "dict_keys(['loss', 'accuracy', 'precision', 'recall', 'val_loss', 'val_accuracy', 'val_precision', 'val_recall'])\n",
            "loss            0.2889170378446579\n",
            "accuracy        0.8711323261260986\n",
            "precision       0.8271640241146088\n",
            "recall          0.938750970363617\n",
            "val_loss        0.30968937277793884\n",
            "val_accuracy    0.8496480941772461\n",
            "val_precision   0.8506993234157563\n",
            "val_recall      0.8826572120189666\n"
          ]
        }
      ],
      "source": [
        "avrgHistory_da = GetHistoryAverage(histories_da)\n",
        "\n",
        "for key, value in avrgHistory_da.items():\n",
        "  print(\"{:<15} {:<10}\".format(key, value))"
      ]
    },
    {
      "cell_type": "code",
      "execution_count": 36,
      "metadata": {},
      "outputs": [
        {
          "name": "stdout",
          "output_type": "stream",
          "text": [
            "{'loss': 0.4538244605064392, 'accuracy': 0.7901023626327515, 'precision': 0.7698113322257996, 'recall': 0.9975550174713135}\n"
          ]
        }
      ],
      "source": [
        "xDataTrain, xDataTest, yDataTrain, yDataTest = train_test_split(xTrain, yTrain, test_size=0.2, random_state=RandomSeed)\n",
        "\n",
        "newData = GenerateAugmentedData(xDataTrain, amountToGenerate, augSequence)\n",
        "newData = np.array(newData, dtype=\"float32\")\n",
        "newDataScaled = newData / 255.0\n",
        "\n",
        "xDataTrain = np.append(xDataTrain, newDataScaled, axis=0)\n",
        "yDataTrain = np.append(yDataTrain, [False] * len(newDataScaled), axis=0)\n",
        "xDataTrain, yDataTrain = ShuffleData(xDataTrain, yDataTrain)\n",
        "    \n",
        "CompileModel(model)\n",
        "\n",
        "TrainModel(model, xDataTrain, yDataTrain, xDataTest, yDataTest)\n",
        "\n",
        "metrics_da = EvaluateModel(model, xTest, yTest)\n",
        "\n",
        "print(metrics_da)"
      ]
    },
    {
      "cell_type": "markdown",
      "metadata": {},
      "source": [
        "### Data Augmentation Scenario 2"
      ]
    },
    {
      "cell_type": "code",
      "execution_count": 37,
      "metadata": {},
      "outputs": [],
      "source": [
        "numNorm = np.count_nonzero(yTrain == 0)\n",
        "amountToGenerate = numNorm // 2\n",
        "newData = GenerateAugmentedData(xTrain, amountToGenerate, augSequence)\n",
        "newData = np.array(newData, dtype=\"float32\")\n",
        "newDataScaled = newData / 255.0"
      ]
    },
    {
      "cell_type": "code",
      "execution_count": 38,
      "metadata": {},
      "outputs": [
        {
          "name": "stdout",
          "output_type": "stream",
          "text": [
            "Training Done\n"
          ]
        }
      ],
      "source": [
        "xData = np.append(xTrain, newDataScaled, axis=0)\n",
        "yData = np.append(yTrain, [0] * len(newDataScaled), axis=0)\n",
        "\n",
        "histories_da2 = []\n",
        "foldIter = 1\n",
        "for trainIndexes, testIndexes in fold.split(xData, yData):\n",
        "    print(f'\\tTraining {foldIter}/{numFold}: ')\n",
        "    \n",
        "    model = BuildModel()\n",
        "    \n",
        "    CompileModel(model)\n",
        "\n",
        "    history = TrainModel(model, xData[trainIndexes], yData[trainIndexes], xData[testIndexes], yData[testIndexes])\n",
        "    \n",
        "    histories_da2.append(history)\n",
        "    \n",
        "    foldIter += 1\n",
        "\n",
        "clear_output(wait=True)\n",
        "print(\"Training Done\")"
      ]
    },
    {
      "cell_type": "code",
      "execution_count": 39,
      "metadata": {},
      "outputs": [
        {
          "name": "stdout",
          "output_type": "stream",
          "text": [
            "dict_keys(['loss', 'accuracy', 'precision', 'recall', 'val_loss', 'val_accuracy', 'val_precision', 'val_recall'])\n",
            "loss            0.4392691791057587\n",
            "accuracy        0.7927518725395203\n",
            "precision       0.7642959773540496\n",
            "recall          0.9852205991744996\n",
            "val_loss        0.4345978796482086\n",
            "val_accuracy    0.7915494382381439\n",
            "val_precision   0.7688211858272552\n",
            "val_recall      0.9813799440860749\n"
          ]
        }
      ],
      "source": [
        "avrgHistory_da2 = GetHistoryAverage(histories_da2)\n",
        "\n",
        "for key, value in avrgHistory_da2.items():\n",
        "  print(\"{:<15} {:<10}\".format(key, value))"
      ]
    },
    {
      "cell_type": "code",
      "execution_count": 40,
      "metadata": {},
      "outputs": [
        {
          "name": "stdout",
          "output_type": "stream",
          "text": [
            "{'loss': 0.23121783137321472, 'accuracy': 0.9095563292503357, 'precision': 0.9299516677856445, 'recall': 0.9413203001022339}\n"
          ]
        }
      ],
      "source": [
        "xDataTrain, xDataTest, yDataTrain, yDataTest = train_test_split(xTrain, yTrain, test_size=0.2, random_state=RandomSeed)\n",
        "\n",
        "newData = GenerateAugmentedData(xDataTrain, amountToGenerate, augSequence)\n",
        "newData = np.array(newData, dtype=\"float32\")\n",
        "newDataScaled = newData / 255.0\n",
        "\n",
        "xDataTrain = np.append(xDataTrain, newDataScaled, axis=0)\n",
        "yDataTrain = np.append(yDataTrain, [False] * len(newDataScaled), axis=0)\n",
        "xDataTrain, yDataTrain = ShuffleData(xDataTrain, yDataTrain)\n",
        "    \n",
        "CompileModel(model)\n",
        "\n",
        "TrainModel(model, xDataTrain, yDataTrain, xDataTest, yDataTest)\n",
        "\n",
        "metrics_da2 = EvaluateModel(model, xTest, yTest)\n",
        "\n",
        "print(metrics_da2)"
      ]
    },
    {
      "cell_type": "markdown",
      "metadata": {},
      "source": [
        "### Loading of Equalized Data"
      ]
    },
    {
      "cell_type": "code",
      "execution_count": 41,
      "metadata": {},
      "outputs": [],
      "source": [
        "imgs_N_Path = \"Images/GrayscaleEqualized/NORMAL\"\n",
        "imgs_P_Path = \"Images/GrayscaleEqualized/PNEUMONIA\"\n",
        "\n",
        "if usingGoogleColab:\n",
        "  from google.colab import drive\n",
        "  drive.mount('/content/drive')\n",
        "  imgs_N_Path = \"drive/MyDrive/CZ4042_Lab02/\" + imgs_N_Path\n",
        "  imgs_P_Path = \"drive/MyDrive/CZ4042_Lab02/\" + imgs_P_Path\n",
        "\n",
        "img_N_List = os.listdir(imgs_N_Path)\n",
        "img_P_List = os.listdir(imgs_P_Path)\n",
        "\n",
        "xN = []\n",
        "xP = []\n",
        "\n",
        "for imgName in img_N_List:\n",
        "  img = load_img(imgs_N_Path + \"/\" + imgName, target_size=(img_width, img_height))\n",
        "  img = img_to_array(img)\n",
        "  grayImg = np.array([[pixel[0] for pixel in row] for row in img]) #Since img is grayscaled, r, g, and b are same values, we only need one of it\n",
        "  xN.append(grayImg)\n",
        "for imgName in img_P_List:\n",
        "  img = load_img(imgs_P_Path + \"/\" + imgName, target_size=(img_width, img_height))\n",
        "  img = img_to_array(img)\n",
        "  grayImg = np.array([[pixel[0] for pixel in row] for row in img])\n",
        "  xP.append(grayImg)\n",
        "  \n",
        "#Reserve 100 images of each category for testing\n",
        "x = xN + xP\n",
        "y = ([0] * len(xN)) + ([1] * len(xP))\n",
        "xTrain, xTest, yTrain, yTest = train_test_split(x, y, test_size=0.1, random_state=RandomSeed)\n",
        "\n",
        "# Normalize pixel values to be between 0 and 1\n",
        "xTest = np.array(xTest, dtype=np.float32)\n",
        "xTrain = np.array(xTrain, dtype=np.float32)\n",
        "yTest = np.array(yTest, dtype=np.float32)\n",
        "yTrain = np.array(yTrain, dtype=np.float32)\n",
        "xTest = xTest / 255.0\n",
        "xTrain = xTrain / 255.0\n",
        "\n",
        "# Shuffle data\n",
        "xTrain, yTrain = ShuffleData(xTrain, yTrain)"
      ]
    },
    {
      "cell_type": "markdown",
      "metadata": {},
      "source": [
        "### Default Scenario (Equalized Dataset)"
      ]
    },
    {
      "cell_type": "code",
      "execution_count": 42,
      "metadata": {},
      "outputs": [
        {
          "name": "stdout",
          "output_type": "stream",
          "text": [
            "Training Done\n"
          ]
        }
      ],
      "source": [
        "xData = xTrain\n",
        "yData = yTrain\n",
        "\n",
        "histories_df2 = []\n",
        "foldIter = 1\n",
        "for trainIndexes, testIndexes in fold.split(xData, yData):\n",
        "    print(f'\\tTraining {foldIter}/{numFold}: ')\n",
        "    \n",
        "    model = BuildModel()\n",
        "    \n",
        "    CompileModel(model)\n",
        "    \n",
        "    history = TrainModel(model, xData[trainIndexes], yData[trainIndexes], xData[testIndexes], yData[testIndexes])\n",
        "    \n",
        "    histories_df2.append(history)\n",
        "    \n",
        "    foldIter += 1\n",
        "\n",
        "clear_output(wait=True)\n",
        "print(\"Training Done\")"
      ]
    },
    {
      "cell_type": "code",
      "execution_count": 43,
      "metadata": {},
      "outputs": [
        {
          "name": "stdout",
          "output_type": "stream",
          "text": [
            "dict_keys(['loss', 'accuracy', 'precision', 'recall', 'val_loss', 'val_accuracy', 'val_precision', 'val_recall'])\n",
            "loss            0.3589298754930496\n",
            "accuracy        0.8348091959953308\n",
            "precision       0.854909110069275\n",
            "recall          0.9340350508689881\n",
            "val_loss        0.4284984678030014\n",
            "val_accuracy    0.800379502773285\n",
            "val_precision   0.8403157353401184\n",
            "val_recall      0.9296294093132019\n"
          ]
        }
      ],
      "source": [
        "avrgHistory_df2 = GetHistoryAverage(histories_df2)\n",
        "\n",
        "for key, value in avrgHistory_df2.items():\n",
        "  print(\"{:<15} {:<10}\".format(key, value))"
      ]
    },
    {
      "cell_type": "code",
      "execution_count": 44,
      "metadata": {},
      "outputs": [
        {
          "name": "stdout",
          "output_type": "stream",
          "text": [
            "{'loss': 0.3428569436073303, 'accuracy': 0.8873720169067383, 'precision': 0.9112709760665894, 'recall': 0.9290953278541565}\n"
          ]
        }
      ],
      "source": [
        "xDataTrain, xDataTest, yDataTrain, yDataTest = train_test_split(xTrain, yTrain, test_size=0.2, random_state=RandomSeed)\n",
        "\n",
        "model = BuildModel()\n",
        "    \n",
        "CompileModel(model)\n",
        "\n",
        "TrainModel(model, xDataTrain, yDataTrain, xDataTest, yDataTest)\n",
        "\n",
        "metrics_df2 = EvaluateModel(model, xTest, yTest)\n",
        "\n",
        "print(metrics_df2)"
      ]
    },
    {
      "cell_type": "markdown",
      "metadata": {},
      "source": [
        "### Loading of Customized Data"
      ]
    },
    {
      "cell_type": "code",
      "execution_count": 45,
      "metadata": {},
      "outputs": [],
      "source": [
        "imgs_N_Path = \"Images/MyTransform/NORMAL\"\n",
        "imgs_P_Path = \"Images/MyTransform/PNEUMONIA\"\n",
        "\n",
        "if usingGoogleColab:\n",
        "  from google.colab import drive\n",
        "  drive.mount('/content/drive')\n",
        "  imgs_N_Path = \"drive/MyDrive/CZ4042_Lab02/\" + imgs_N_Path\n",
        "  imgs_P_Path = \"drive/MyDrive/CZ4042_Lab02/\" + imgs_P_Path\n",
        "\n",
        "img_N_List = os.listdir(imgs_N_Path)\n",
        "img_P_List = os.listdir(imgs_P_Path)\n",
        "\n",
        "xN = []\n",
        "xP = []\n",
        "\n",
        "for imgName in img_N_List:\n",
        "  img = load_img(imgs_N_Path + \"/\" + imgName, target_size=(img_width, img_height))\n",
        "  img = img_to_array(img)\n",
        "  grayImg = np.array([[pixel[0] for pixel in row] for row in img]) #Since img is grayscaled, r, g, and b are same values, we only need one of it\n",
        "  xN.append(grayImg)\n",
        "for imgName in img_P_List:\n",
        "  img = load_img(imgs_P_Path + \"/\" + imgName, target_size=(img_width, img_height))\n",
        "  img = img_to_array(img)\n",
        "  grayImg = np.array([[pixel[0] for pixel in row] for row in img])\n",
        "  xP.append(grayImg)\n",
        "  \n",
        "#Reserve 100 images of each category for testing\n",
        "x = xN + xP\n",
        "y = ([0] * len(xN)) + ([1] * len(xP))\n",
        "xTrain, xTest, yTrain, yTest = train_test_split(x, y, test_size=0.1, random_state=RandomSeed)\n",
        "\n",
        "# Normalize pixel values to be between 0 and 1\n",
        "xTest = np.array(xTest, dtype=np.float32)\n",
        "xTrain = np.array(xTrain, dtype=np.float32)\n",
        "yTest = np.array(yTest, dtype=np.float32)\n",
        "yTrain = np.array(yTrain, dtype=np.float32)\n",
        "xTest = xTest / 255.0\n",
        "xTrain = xTrain / 255.0\n",
        "\n",
        "# Shuffle data\n",
        "xTrain, yTrain = ShuffleData(xTrain, yTrain)"
      ]
    },
    {
      "cell_type": "markdown",
      "metadata": {},
      "source": [
        "### Default Scenario (Custom)"
      ]
    },
    {
      "cell_type": "code",
      "execution_count": 46,
      "metadata": {},
      "outputs": [
        {
          "name": "stdout",
          "output_type": "stream",
          "text": [
            "Training Done\n"
          ]
        }
      ],
      "source": [
        "xData = xTrain\n",
        "yData = yTrain\n",
        "\n",
        "histories_df3 = []\n",
        "foldIter = 1\n",
        "for trainIndexes, testIndexes in fold.split(xData, yData):\n",
        "    print(f'\\tTraining {foldIter}/{numFold}: ')\n",
        "    \n",
        "    model = BuildModel()\n",
        "    \n",
        "    CompileModel(model)\n",
        "    \n",
        "    history = TrainModel(model, xData[trainIndexes], yData[trainIndexes], xData[testIndexes], yData[testIndexes])\n",
        "    \n",
        "    histories_df3.append(history)\n",
        "    \n",
        "    foldIter += 1\n",
        "\n",
        "clear_output(wait=True)\n",
        "print(\"Training Done\")"
      ]
    },
    {
      "cell_type": "code",
      "execution_count": 47,
      "metadata": {},
      "outputs": [
        {
          "name": "stdout",
          "output_type": "stream",
          "text": [
            "dict_keys(['loss', 'accuracy', 'precision', 'recall', 'val_loss', 'val_accuracy', 'val_precision', 'val_recall'])\n",
            "loss            0.327982971072197\n",
            "accuracy        0.8596879541873932\n",
            "precision       0.881434565782547\n",
            "recall          0.9344376385211944\n",
            "val_loss        0.38834020793437957\n",
            "val_accuracy    0.8278937339782715\n",
            "val_precision   0.8672353565692902\n",
            "val_recall      0.9223761856555939\n"
          ]
        }
      ],
      "source": [
        "avrgHistory_df3 = GetHistoryAverage(histories_df3)\n",
        "\n",
        "for key, value in avrgHistory_df3.items():\n",
        "  print(\"{:<15} {:<10}\".format(key, value))"
      ]
    },
    {
      "cell_type": "code",
      "execution_count": 48,
      "metadata": {},
      "outputs": [
        {
          "name": "stdout",
          "output_type": "stream",
          "text": [
            "{'loss': 0.30013179779052734, 'accuracy': 0.8754266500473022, 'precision': 0.9137930870056152, 'recall': 0.9070904850959778}\n"
          ]
        }
      ],
      "source": [
        "xDataTrain, xDataTest, yDataTrain, yDataTest = train_test_split(xTrain, yTrain, test_size=0.2, random_state=RandomSeed)\n",
        "\n",
        "model = BuildModel()\n",
        "    \n",
        "CompileModel(model)\n",
        "\n",
        "TrainModel(model, xDataTrain, yDataTrain, xDataTest, yDataTest)\n",
        "\n",
        "metrics_df3 = EvaluateModel(model, xTest, yTest)\n",
        "\n",
        "print(metrics_df3)"
      ]
    },
    {
      "cell_type": "markdown",
      "metadata": {},
      "source": [
        "### Comparison Table"
      ]
    },
    {
      "cell_type": "code",
      "execution_count": 49,
      "metadata": {},
      "outputs": [
        {
          "name": "stdout",
          "output_type": "stream",
          "text": [
            "             scenario      loss  accuracy  precision    recall\n",
            "0       Default Train  0.494591  0.750748   0.748711  0.995543\n",
            "1      Default2 Train  0.358930  0.834809   0.854909  0.934035\n",
            "2      Default3 Train  0.327983  0.859688   0.881435  0.934438\n",
            "3  ClassWeights Train  0.528058  0.791335   0.924367  0.779244\n",
            "4       DataAug Train  0.288917  0.871132   0.827164  0.938751\n",
            "5      DataAug2 Train  0.439269  0.792752   0.764296  0.985221\n",
            "\n",
            "                 scenario      loss  accuracy  precision    recall\n",
            "6        Default Validate  0.534023  0.736622   0.775956  0.941192\n",
            "7       Default2 Validate  0.428498  0.800380   0.840316  0.929629\n",
            "8       Default3 Validate  0.388340  0.827894   0.867235  0.922376\n",
            "9   ClassWeights Validate  0.539438  0.740607   0.892862  0.777865\n",
            "10       DataAug Validate  0.309689  0.849648   0.850699  0.882657\n",
            "11      DataAug2 Validate  0.434598  0.791549   0.768821  0.981380\n",
            "\n",
            "             scenario      loss  accuracy  precision    recall\n",
            "12       Default Test  0.561974  0.697952   0.697952  1.000000\n",
            "13      Default2 Test  0.342857  0.887372   0.911271  0.929095\n",
            "14      Default3 Test  0.300132  0.875427   0.913793  0.907090\n",
            "15  ClassWeights Test  0.655411  0.844710   0.978916  0.794621\n",
            "16       DataAug Test  0.453824  0.790102   0.769811  0.997555\n",
            "17      DataAug2 Test  0.231218  0.909556   0.929952  0.941320\n"
          ]
        }
      ],
      "source": [
        "metricsNames = ['loss', 'accuracy', 'precision', 'recall']\n",
        "valMetricsNames = ['val_loss', 'val_accuracy', 'val_precision', 'val_recall']\n",
        "\n",
        "df = pd.DataFrame(columns=['scenario'] + metricsNames)\n",
        "\n",
        "df.loc[len(df.index)] = [\"Default Train\"] + [avrgHistory_df[name] for name in metricsNames]\n",
        "df.loc[len(df.index)] = [\"Default2 Train\"] + [avrgHistory_df2[name] for name in metricsNames]\n",
        "df.loc[len(df.index)] = [\"Default3 Train\"] + [avrgHistory_df3[name] for name in metricsNames]\n",
        "df.loc[len(df.index)] = [\"ClassWeights Train\"] + [avrgHistory_cw[name] for name in metricsNames]\n",
        "df.loc[len(df.index)] = [\"DataAug Train\"] + [avrgHistory_da[name] for name in metricsNames]\n",
        "df.loc[len(df.index)] = [\"DataAug2 Train\"] + [avrgHistory_da2[name] for name in metricsNames]\n",
        "\n",
        "df.loc[len(df.index)] = [\"Default Validate\"] + [avrgHistory_df[name] for name in valMetricsNames]\n",
        "df.loc[len(df.index)] = [\"Default2 Validate\"] + [avrgHistory_df2[name] for name in valMetricsNames]\n",
        "df.loc[len(df.index)] = [\"Default3 Validate\"] + [avrgHistory_df3[name] for name in valMetricsNames]\n",
        "df.loc[len(df.index)] = [\"ClassWeights Validate\"] + [avrgHistory_cw[name] for name in valMetricsNames]\n",
        "df.loc[len(df.index)] = [\"DataAug Validate\"] + [avrgHistory_da[name] for name in valMetricsNames]\n",
        "df.loc[len(df.index)] = [\"DataAug2 Validate\"] + [avrgHistory_da2[name] for name in valMetricsNames]\n",
        "\n",
        "df.loc[len(df.index)] = [\"Default Test\"] + list(metrics_df.values())\n",
        "df.loc[len(df.index)] = [\"Default2 Test\"] + list(metrics_df2.values())\n",
        "df.loc[len(df.index)] = [\"Default3 Test\"] + list(metrics_df3.values())\n",
        "df.loc[len(df.index)] = [\"ClassWeights Test\"] + list(metrics_cw.values())\n",
        "df.loc[len(df.index)] = [\"DataAug Test\"] + list(metrics_da.values())\n",
        "df.loc[len(df.index)] = [\"DataAug2 Test\"] + list(metrics_da2.values())\n",
        "\n",
        "\n",
        "print(df.loc[:5])\n",
        "print()\n",
        "print(df.loc[6:11])\n",
        "print()\n",
        "print(df.loc[12:])"
      ]
    },
    {
      "cell_type": "code",
      "execution_count": null,
      "metadata": {},
      "outputs": [],
      "source": []
    }
  ],
  "metadata": {
    "colab": {
      "collapsed_sections": [],
      "provenance": []
    },
    "gpuClass": "standard",
    "kernelspec": {
      "display_name": "Python 3",
      "language": "python",
      "name": "python3"
    },
    "language_info": {
      "codemirror_mode": {
        "name": "ipython",
        "version": 3
      },
      "file_extension": ".py",
      "mimetype": "text/x-python",
      "name": "python",
      "nbconvert_exporter": "python",
      "pygments_lexer": "ipython3",
      "version": "3.9.13"
    },
    "vscode": {
      "interpreter": {
        "hash": "65463cf6ea576c082948f46708866b2d2d923560ace25e7a44cd8769167a37ab"
      }
    }
  },
  "nbformat": 4,
  "nbformat_minor": 0
}
